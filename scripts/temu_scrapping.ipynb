{
 "cells": [
  {
   "cell_type": "markdown",
   "metadata": {},
   "source": [
    "## Temu Product Review Scrapping"
   ]
  },
  {
   "cell_type": "code",
   "execution_count": 2,
   "metadata": {},
   "outputs": [],
   "source": [
    "from bs4 import BeautifulSoup\n",
    "from selenium import webdriver\n",
    "from selenium.webdriver.edge.service import Service\n",
    "from selenium.webdriver.edge.options import Options\n",
    "\n",
    "from selenium.webdriver.common.by import By # to find tags or elements\n",
    "from selenium.webdriver.support.ui import WebDriverWait # a good way to wait\n",
    "from selenium.webdriver.support import expected_conditions as EC # for scrolling\n",
    "\n",
    "import time\n",
    "import pandas as pd\n",
    "import os\n",
    "import requests"
   ]
  },
  {
   "cell_type": "code",
   "execution_count": 3,
   "metadata": {},
   "outputs": [
    {
     "data": {
      "text/plain": [
       "200"
      ]
     },
     "execution_count": 3,
     "metadata": {},
     "output_type": "execute_result"
    }
   ],
   "source": [
    "## Testing url - Temu\n",
    "url = 'https://www.temu.com/ng/transparent-soft-tpu-case--for-galaxy-s25-s24-s23-s22-s23-fe--s24fe-s23fe-s21fe-s24plus-s23plus-s22plus-s21plus-s25ultra-s24ultra-s23ultra-s22ultra-with-wireless-charge-clear-cover-g-601099933583474.html?_oak_mp_inf=EPKQkOCn1ogBGhZmbGFzaF9zYWxlX2xpc3RfdTVuaThtIOqqstrQMg%3D%3D&top_gallery_url=https%3A%2F%2Fimg.kwcdn.com%2Fproduct%2Ffancy%2F5cb1c7dd-2661-4bc3-88bd-c88ceba7677d.jpg&spec_gallery_id=5465637388&refer_page_sn=10132&refer_source=0&freesia_scene=116&_oak_freesia_scene=116&_oak_rec_ext_1=Mzk2NzAw&_oak_gallery_order=658009297%2C633944919%2C1556163267%2C500529664%2C1329255741&refer_page_el_sn=201401&_x_channel_src=1&_x_channel_scene=spike&_x_sessn_id=u04ciiluh4&refer_page_name=lightning-deals&refer_page_id=10132_1739651326276_px3f554rbs'\n",
    "response = requests.get(url)\n",
    "response.status_code"
   ]
  },
  {
   "cell_type": "code",
   "execution_count": 4,
   "metadata": {},
   "outputs": [],
   "source": [
    "soup = BeautifulSoup(response.content, 'html.parser')"
   ]
  },
  {
   "cell_type": "code",
   "execution_count": 6,
   "metadata": {},
   "outputs": [
    {
     "ename": "AttributeError",
     "evalue": "'NoneType' object has no attribute 'get'",
     "output_type": "error",
     "traceback": [
      "\u001b[1;31m---------------------------------------------------------------------------\u001b[0m",
      "\u001b[1;31mAttributeError\u001b[0m                            Traceback (most recent call last)",
      "Cell \u001b[1;32mIn[6], line 3\u001b[0m\n\u001b[0;32m      1\u001b[0m \u001b[38;5;66;03m# Get and click the load more reviews button\u001b[39;00m\n\u001b[0;32m      2\u001b[0m load_more_button \u001b[38;5;241m=\u001b[39m soup\u001b[38;5;241m.\u001b[39mfind(\u001b[38;5;124m'\u001b[39m\u001b[38;5;124mspan\u001b[39m\u001b[38;5;124m'\u001b[39m, {\u001b[38;5;124m'\u001b[39m\u001b[38;5;124mclass\u001b[39m\u001b[38;5;124m'\u001b[39m: \u001b[38;5;124m'\u001b[39m\u001b[38;5;124m_3cgghkPI\u001b[39m\u001b[38;5;124m'\u001b[39m})\n\u001b[1;32m----> 3\u001b[0m response \u001b[38;5;241m=\u001b[39m requests\u001b[38;5;241m.\u001b[39mpost(load_more_button\u001b[38;5;241m.\u001b[39mget(\u001b[38;5;124m'\u001b[39m\u001b[38;5;124mclass\u001b[39m\u001b[38;5;124m'\u001b[39m))\n",
      "\u001b[1;31mAttributeError\u001b[0m: 'NoneType' object has no attribute 'get'"
     ]
    }
   ],
   "source": [
    "# Get and click the load more reviews button\n",
    "load_more_button = soup.find('span', {'class': '_3cgghkPI'})\n",
    "response = requests.post(load_more_button.get('class'))\n",
    "#response.status_code"
   ]
  },
  {
   "cell_type": "code",
   "execution_count": 4,
   "metadata": {},
   "outputs": [],
   "source": [
    "## Function to get the reviews on each page\n",
    "def get_page_review(driver):\n",
    "    soup = BeautifulSoup(driver.page_source, 'html.parser')\n",
    "    first_leg = soup.find('div', class_ = '_3Rsl6Owq')\n",
    "    reviews = first_leg.find_all('div', class_='_244ldJXl')\n",
    "\n",
    "    # Extract review data\n",
    "    review_data = []\n",
    "    for review in reviews:\n",
    "        # Reviewer Comment\n",
    "        try:\n",
    "            reviewer_comment = review.find('div', class_ = '_2EO0yd2j').text\n",
    "        except AttributeError:\n",
    "            reviewer_comment = ''\n",
    "        \n",
    "        # Review Dates\n",
    "        try:\n",
    "            review_date = review.find('span', style='font-size: 14px; color: rgb(170, 170, 170); font-weight: 400; text-decoration: none;').text\n",
    "        except AttributeError:\n",
    "            review_date = ''\n",
    "        \n",
    "        # Reviewer Name\n",
    "        try:\n",
    "            reviewer_name = review.find(\"div\", class_='XTEkYdlM _3a8V1xkt').text\n",
    "        except AttributeError:\n",
    "            reviewer_name = ''\n",
    "        \n",
    "        # product star\n",
    "        try:\n",
    "            product_star = review.find('div', class_ = '_7JDNQb0g _1uEtAYnT').text\n",
    "        except AttributeError:\n",
    "            product_star = ''\n",
    "        \n",
    "        review_data.append({\n",
    "            'reviewer_name': reviewer_name,\n",
    "            'review_date': review_date,\n",
    "            'product_star': product_star,\n",
    "            'reviewer_comment': reviewer_comment            \n",
    "        })\n",
    "    \n",
    "    return review_data"
   ]
  },
  {
   "cell_type": "code",
   "execution_count": 1,
   "metadata": {},
   "outputs": [],
   "source": [
    "# Run the scrap function\n",
    "def shopify_scrap(product_url, product_name):\n",
    "    # Clean product name incase it contains spaces\n",
    "    product_name = product_name.replace(' ', '_')\n",
    "\n",
    "    # Configure Selenium EdgeDriver options\n",
    "    options = Options()\n",
    "    options.add_argument(\"--user-agent=Mozilla/5.0 (Windows NT 10.0; Win64; x64) AppleWebKit/537.36 (KHTML, like Gecko) Chrome/91.0.4472.124 Safari/537.36 Edg/91.0.864.59\") # code to prevent the website from detecting bot activity\n",
    "    options.add_argument(\"--disable-blink-features=AutomationControlled\") # Disable the automation line at the top of the browser\n",
    "    options.add_argument('headless')\n",
    "    options.add_argument('disable-gpu')\n",
    "    options.use_chromium = True\n",
    "    service = Service(executable_path=r'C:\\Users\\Joshu\\Desktop\\msedgedriver.exe') # Always check to confirm that the version of edge driver matches the version or MS Edge browser\n",
    "    driver = webdriver.Edge(service=service, options=options) # Initialize the webdriver\n",
    "\n",
    "    driver.get(product_url)\n",
    "    time.sleep(8) # To load the product page\n",
    "\n",
    "    # Scrape all reviews variable\n",
    "    all_reviews = []\n",
    "    \n",
    "    # Clicking 'See all reviews' button\n",
    "    try:\n",
    "        read_more_reviews_button = WebDriverWait(driver, 10).until(EC.element_to_be_clickable(\n",
    "            (By.XPATH, '//span[@class=\"_3cgghkPI\"]'))\n",
    "        )\n",
    "        \n",
    "        driver.execute_script(\"arguments[0].scrollIntoView({block: 'center'});\", read_more_reviews_button) # Scroll the page to view the button for Next Page\n",
    "        time.sleep(2)  # Wait for the scroll\n",
    "        \n",
    "        read_more_reviews_button.click() # Click the read more reviews button\n",
    "        time.sleep(5)\n",
    "        \n",
    "        # Then we're changing the driver to now point to the new pop-up window\n",
    "        reviews_window = WebDriverWait(driver, 10).until(EC.presence_of_element_located(\n",
    "            (By.XPATH, '//div[@class=\"_2OaJDN8Y _3Rsl6Owq _1xAk_zzX\"]')\n",
    "        ))\n",
    "\n",
    "        # Logic for the scrolling down on the reviews window\n",
    "        # Get the current scroll height\n",
    "        scroll_height = driver.execute_script('return arguments[0].scrollHeight', reviews_window)\n",
    "        \n",
    "        while True:\n",
    "            #scroll down little by little by 5000 pixels\n",
    "            driver.execute_script('arguments[0].scrollBy(0, 5000);', reviews_window)\n",
    "            time.sleep(6)\n",
    "\n",
    "            new_scroll_height = driver.execute_script('return arguments[0].scrollHeight', reviews_window)\n",
    "            \n",
    "            if scroll_height == new_scroll_height:\n",
    "                break\n",
    "            scroll_height = new_scroll_height\n",
    "        \n",
    "        d_reviews = get_page_review(driver)\n",
    "        all_reviews.extend(d_reviews)\n",
    "\n",
    "    except Exception as e:\n",
    "        print(\"No more pages to load\", e)\n",
    "\n",
    "    driver.quit()\n",
    "\n",
    "    # Save to CSV\n",
    "    # output_dir = r'Reviews\\Temu'\n",
    "    # file_name = f'{product_name}_reviews.csv'\n",
    "    # output_path = os.path.join(output_dir, file_name)\n",
    "    # os.makedirs(output_dir, exist_ok=True)\n",
    "\n",
    "    # product_df = pd.DataFrame(all_reviews)\n",
    "    # product_df.to_csv(output_path, index=False)\n",
    "    # print(f'{len(product_df)} {product_name} reviews successfully written to {output_path}! Nice work!!!')"
   ]
  },
  {
   "cell_type": "code",
   "execution_count": 2,
   "metadata": {},
   "outputs": [
    {
     "ename": "NameError",
     "evalue": "name 'Options' is not defined",
     "output_type": "error",
     "traceback": [
      "\u001b[1;31m---------------------------------------------------------------------------\u001b[0m",
      "\u001b[1;31mNameError\u001b[0m                                 Traceback (most recent call last)",
      "Cell \u001b[1;32mIn[2], line 6\u001b[0m\n\u001b[0;32m      3\u001b[0m \u001b[38;5;66;03m# '' # more review data\u001b[39;00m\n\u001b[0;32m      4\u001b[0m product_name \u001b[38;5;241m=\u001b[39m \u001b[38;5;124m'\u001b[39m\u001b[38;5;124mCase for SamSung for Galaxy\u001b[39m\u001b[38;5;124m'\u001b[39m\n\u001b[1;32m----> 6\u001b[0m shopify_scrap(start_url, product_name)\n",
      "Cell \u001b[1;32mIn[1], line 7\u001b[0m, in \u001b[0;36mshopify_scrap\u001b[1;34m(product_url, product_name)\u001b[0m\n\u001b[0;32m      4\u001b[0m product_name \u001b[38;5;241m=\u001b[39m product_name\u001b[38;5;241m.\u001b[39mreplace(\u001b[38;5;124m'\u001b[39m\u001b[38;5;124m \u001b[39m\u001b[38;5;124m'\u001b[39m, \u001b[38;5;124m'\u001b[39m\u001b[38;5;124m_\u001b[39m\u001b[38;5;124m'\u001b[39m)\n\u001b[0;32m      6\u001b[0m \u001b[38;5;66;03m# Configure Selenium EdgeDriver options\u001b[39;00m\n\u001b[1;32m----> 7\u001b[0m options \u001b[38;5;241m=\u001b[39m Options()\n\u001b[0;32m      8\u001b[0m options\u001b[38;5;241m.\u001b[39madd_argument(\u001b[38;5;124m\"\u001b[39m\u001b[38;5;124m--user-agent=Mozilla/5.0 (Windows NT 10.0; Win64; x64) AppleWebKit/537.36 (KHTML, like Gecko) Chrome/91.0.4472.124 Safari/537.36 Edg/91.0.864.59\u001b[39m\u001b[38;5;124m\"\u001b[39m) \u001b[38;5;66;03m# code to prevent the website from detecting bot activity\u001b[39;00m\n\u001b[0;32m      9\u001b[0m options\u001b[38;5;241m.\u001b[39madd_argument(\u001b[38;5;124m\"\u001b[39m\u001b[38;5;124m--disable-blink-features=AutomationControlled\u001b[39m\u001b[38;5;124m\"\u001b[39m) \u001b[38;5;66;03m# Disable the automation line at the top of the browser\u001b[39;00m\n",
      "\u001b[1;31mNameError\u001b[0m: name 'Options' is not defined"
     ]
    }
   ],
   "source": [
    "# Update the start URL\n",
    "start_url = 'https://www.temu.com/ng/transparent-soft-tpu-case--for-galaxy-s25-s24-s23-s22-s23-fe--s24fe-s23fe-s21fe-s24plus-s23plus-s22plus-s21plus-s25ultra-s24ultra-s23ultra-s22ultra-with-wireless-charge-clear-cover-g-601099933583474.html?_oak_mp_inf=EPKQkOCn1ogBGhZmbGFzaF9zYWxlX2xpc3RfdTVuaThtIOqqstrQMg%3D%3D&top_gallery_url=https%3A%2F%2Fimg.kwcdn.com%2Fproduct%2Ffancy%2F5cb1c7dd-2661-4bc3-88bd-c88ceba7677d.jpg&spec_gallery_id=5465637388&refer_page_sn=10132&refer_source=0&freesia_scene=116&_oak_freesia_scene=116&_oak_rec_ext_1=Mzk2NzAw&_oak_gallery_order=658009297%2C633944919%2C1556163267%2C500529664%2C1329255741&refer_page_el_sn=201401&_x_channel_src=1&_x_channel_scene=spike&_x_sessn_id=u04ciiluh4&refer_page_name=lightning-deals&refer_page_id=10132_1739651326276_px3f554rbs' # less review data\n",
    "# '' # more review data\n",
    "product_name = 'Case for SamSung for Galaxy'\n",
    "\n",
    "shopify_scrap(start_url, product_name)"
   ]
  },
  {
   "cell_type": "code",
   "execution_count": null,
   "metadata": {},
   "outputs": [],
   "source": []
  }
 ],
 "metadata": {
  "kernelspec": {
   "display_name": "base",
   "language": "python",
   "name": "python3"
  },
  "language_info": {
   "codemirror_mode": {
    "name": "ipython",
    "version": 3
   },
   "file_extension": ".py",
   "mimetype": "text/x-python",
   "name": "python",
   "nbconvert_exporter": "python",
   "pygments_lexer": "ipython3",
   "version": "3.12.4"
  }
 },
 "nbformat": 4,
 "nbformat_minor": 2
}
